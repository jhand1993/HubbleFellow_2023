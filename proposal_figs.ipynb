{
 "cells": [
  {
   "cell_type": "code",
   "execution_count": 20,
   "metadata": {},
   "outputs": [],
   "source": [
    "import matplotlib.pyplot as plt\n",
    "import numpy as np\n",
    "from pathlib import Path\n",
    "from sklearn.gaussian_process import GaussianProcessRegressor\n",
    "from sklearn.gaussian_process.kernels import Matern, WhiteKernel\n",
    "import pandas as pd\n",
    "from matplotlib import cm\n",
    "\n",
    "data_path = Path('data')"
   ]
  },
  {
   "cell_type": "code",
   "execution_count": 10,
   "metadata": {},
   "outputs": [],
   "source": [
    "train_df = pd.read_csv(data_path / 'PLAsTiCC-2018' / 'training_set.csv')"
   ]
  },
  {
   "cell_type": "code",
   "execution_count": 52,
   "metadata": {},
   "outputs": [],
   "source": [
    "obj_id_arr = np.unique(train_df['object_id'])"
   ]
  },
  {
   "cell_type": "code",
   "execution_count": 57,
   "metadata": {},
   "outputs": [],
   "source": [
    "def get_timeseries(id):\n",
    "    sub_df = train_df.loc[train_df['object_id'] == id]\n",
    "    obj_dict = {}\n",
    "    for i in range(6):\n",
    "        band_sub_df = sub_df.loc[sub_df['passband'] == i]\n",
    "        obj_dict[i] = {\n",
    "            'mjd': band_sub_df['mjd'].values.tolist(),\n",
    "            'flux': band_sub_df['flux'].values.tolist(),\n",
    "            'flux_err': band_sub_df['flux_err'].values.tolist(), \n",
    "            'detected': band_sub_df['detected'].values.tolist()\n",
    "        }\n",
    "    return obj_dict\n",
    "\n",
    "test = get_timeseries(730)\n",
    "# train_dict = dict(zip(obj_id_arr, [get_timeseries(id) for id in obj_id_arr]))\n",
    "\n",
    "test_id = np.random.choice(obj_id_arr, size=5, replace=False)\n",
    "test_dict = dict(zip(test_id, [get_timeseries(id) for id in test_id]))\n"
   ]
  },
  {
   "cell_type": "code",
   "execution_count": 50,
   "metadata": {},
   "outputs": [
    {
     "data": {
      "image/png": "[encoded data removed]",
      "text/plain": [
       "<Figure size 720x504 with 1 Axes>"
      ]
     },
     "metadata": {
      "needs_background": "light"
     },
     "output_type": "display_data"
    }
   ],
   "source": [
    "carr = np.linspace(0., 0.8, 6)\n",
    "cmap = cm.get_cmap('plasma')\n",
    "\n",
    "plt.figure(figsize=(10, 7))\n",
    "for i in range(6):\n",
    "    mask = np.asarray(test[i]['detected'], dtype=bool)\n",
    "    plt.errorbar(\n",
    "        np.asarray(test[i]['mjd'])[mask], np.asarray(test[i]['flux'])[mask], \n",
    "        yerr=np.asarray(test[i]['flux_err'])[mask],\n",
    "        alpha=0.5, marker='o', capsize=1., ls='', color=cmap(carr[i])\n",
    "    )\n",
    "\n",
    "plt.show()"
   ]
  },
  {
   "cell_type": "code",
   "execution_count": 88,
   "metadata": {},
   "outputs": [],
   "source": [
    "kern = 1. * Matern(length_scale=4., length_scale_bounds=[0.1, 100.], nu=2.5)\n",
    "\n",
    "def gpr_fit(id, band):\n",
    "    data = get_timeseries(id)[band]\n",
    "    mask = np.asarray(data['detected'], dtype=bool)\n",
    "    if not np.sum(mask): \n",
    "        print(f'No detected observations for object {id}, band {i}.')\n",
    "        return None\n",
    "    \n",
    "    t_obs = np.asarray(data['mjd'])[mask]\n",
    "    flux = np.asarray(data['flux'])[mask]\n",
    "    flux_err = np.asarray(data['flux_err'])[mask]\n",
    "    t0 = t_obs[np.argmax(flux)]\n",
    "    t_obs -= t0\n",
    "\n",
    "    gpr = GaussianProcessRegressor(kernel=kern, alpha=flux_err**2)\n",
    "    gpr.fit(t_obs.reshape(-1, 1), flux.reshape(-1, 1))\n",
    "    return gpr\n",
    "    \n"
   ]
  },
  {
   "cell_type": "code",
   "execution_count": 95,
   "metadata": {},
   "outputs": [
    {
     "name": "stdout",
     "output_type": "stream",
     "text": [
      "21.3**2 * Matern(length_scale=77.2, nu=2.5)\n"
     ]
    }
   ],
   "source": [
    "t_gpr = np.linspace(-20., 90., 250)\n",
    "model = gpr_fit(730, 3)\n",
    "\n",
    "data = get_timeseries(730)[3]\n",
    "mask = np.asarray(data['detected'], dtype=bool)\n",
    "t_obs = np.asarray(data['mjd'])[mask]\n",
    "flux = np.asarray(data['flux'])[mask]\n",
    "flux_err = np.asarray(data['flux_err'])[mask]\n",
    "t0 = t_obs[np.argmax(flux)]\n",
    "t_obs -= t0\n",
    "\n",
    "pred, err = model.predict(t_gpr.reshape(-1, 1), return_std=True)\n"
   ]
  },
  {
   "cell_type": "code",
   "execution_count": 99,
   "metadata": {},
   "outputs": [
    {
     "data": {
      "image/png": "[encoded data removed]",
      "text/plain": [
       "<Figure size 432x288 with 1 Axes>"
      ]
     },
     "metadata": {
      "needs_background": "light"
     },
     "output_type": "display_data"
    }
   ],
   "source": [
    "plt.figure(figsize=(6, 4))\n",
    "plt.plot(\n",
    "    t_gpr, pred, alpha=0.8, color='blue'\n",
    ")\n",
    "plt.errorbar(\n",
    "    t_obs, flux, yerr=flux_err, color='black', marker='D', capsize=2., alpha=0.9, ls=''\n",
    ")\n",
    "plt.fill_between(\n",
    "    t_gpr, pred.T[0] - err, y2=pred.T[0] + err, color='blue', alpha=0.2\n",
    ")\n",
    "plt.xlabel(r'$Days since maximum$')\n",
    "plt.ylabel(r'$f_{\\lambda}$')\n",
    "\n",
    "plt.show()"
   ]
  },
  {
   "cell_type": "code",
   "execution_count": null,
   "metadata": {},
   "outputs": [],
   "source": []
  }
 ],
 "metadata": {
  "kernelspec": {
   "display_name": "Python 3.9.5 ('nsflm')",
   "language": "python",
   "name": "python3"
  },
  "language_info": {
   "codemirror_mode": {
    "name": "ipython",
    "version": 3
   },
   "file_extension": ".py",
   "mimetype": "text/x-python",
   "name": "python",
   "nbconvert_exporter": "python",
   "pygments_lexer": "ipython3",
   "version": "3.9.5"
  },
  "orig_nbformat": 4,
  "vscode": {
   "interpreter": {
    "hash": "6e72760e5d7d99da14aecb222c374db5edeaeeb6bb82b54bc30f4536a891c054"
   }
  }
 },
 "nbformat": 4,
 "nbformat_minor": 2
}
